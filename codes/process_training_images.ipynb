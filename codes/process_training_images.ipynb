{
 "cells": [
  {
   "cell_type": "code",
   "execution_count": 1,
   "id": "ced1707b",
   "metadata": {},
   "outputs": [],
   "source": [
    "import pandas as pd\n",
    "import numpy as np\n",
    "from PIL import Image"
   ]
  },
  {
   "cell_type": "code",
   "execution_count": 2,
   "id": "e9e0b1fd",
   "metadata": {},
   "outputs": [],
   "source": [
    "image = Image.open('angry/im0.png')\n",
    "pixels = list(image.getdata())\n"
   ]
  },
  {
   "cell_type": "code",
   "execution_count": 3,
   "id": "1e5c4e9a",
   "metadata": {},
   "outputs": [],
   "source": [
    "emotion_dict = {'angry': (0, 3995), 'disgusted': (1, 436) , 'fearful': (2, 4097) , 'happy': (3, 7215), 'neutral': (4, 4965), 'sad': (5, 4830), 'surprised': (6, 3171)}"
   ]
  },
  {
   "cell_type": "code",
   "execution_count": 16,
   "id": "98f6a52f",
   "metadata": {},
   "outputs": [],
   "source": [
    "emotion_df = pd.DataFrame(columns=['emotion', 'pixels'])"
   ]
  },
  {
   "cell_type": "code",
   "execution_count": 18,
   "id": "a7c735b9",
   "metadata": {},
   "outputs": [],
   "source": [
    "idx = 0\n",
    "for emot in emotion_dict.keys():\n",
    "    for file_no in range(emotion_dict[emot][1]):\n",
    "        file_path = emot+'/im'+str(file_no)+'.png'\n",
    "        image = Image.open(file_path)\n",
    "        pixels = list(image.getdata())\n",
    "        emotion = emotion_dict[emot][0]\n",
    "        emotion_df.loc[idx] = [emotion, pixels]\n",
    "        idx+=1"
   ]
  },
  {
   "cell_type": "code",
   "execution_count": 19,
   "id": "68415860",
   "metadata": {},
   "outputs": [],
   "source": [
    "emotion_df.to_csv('train_emotions.csv', index=False)"
   ]
  },
  {
   "cell_type": "code",
   "execution_count": 20,
   "id": "6941b45b",
   "metadata": {},
   "outputs": [
    {
     "data": {
      "text/html": [
       "<div>\n",
       "<style scoped>\n",
       "    .dataframe tbody tr th:only-of-type {\n",
       "        vertical-align: middle;\n",
       "    }\n",
       "\n",
       "    .dataframe tbody tr th {\n",
       "        vertical-align: top;\n",
       "    }\n",
       "\n",
       "    .dataframe thead th {\n",
       "        text-align: right;\n",
       "    }\n",
       "</style>\n",
       "<table border=\"1\" class=\"dataframe\">\n",
       "  <thead>\n",
       "    <tr style=\"text-align: right;\">\n",
       "      <th></th>\n",
       "      <th>emotion</th>\n",
       "      <th>pixels</th>\n",
       "    </tr>\n",
       "  </thead>\n",
       "  <tbody>\n",
       "    <tr>\n",
       "      <th>0</th>\n",
       "      <td>0</td>\n",
       "      <td>[70, 80, 82, 72, 58, 58, 60, 63, 54, 58, 60, 4...</td>\n",
       "    </tr>\n",
       "    <tr>\n",
       "      <th>1</th>\n",
       "      <td>0</td>\n",
       "      <td>[151, 150, 147, 155, 148, 133, 111, 140, 170, ...</td>\n",
       "    </tr>\n",
       "    <tr>\n",
       "      <th>2</th>\n",
       "      <td>0</td>\n",
       "      <td>[30, 24, 21, 23, 25, 25, 49, 67, 84, 103, 120,...</td>\n",
       "    </tr>\n",
       "    <tr>\n",
       "      <th>3</th>\n",
       "      <td>0</td>\n",
       "      <td>[123, 125, 124, 142, 209, 226, 234, 236, 231, ...</td>\n",
       "    </tr>\n",
       "    <tr>\n",
       "      <th>4</th>\n",
       "      <td>0</td>\n",
       "      <td>[8, 9, 14, 21, 26, 32, 37, 46, 52, 62, 72, 70,...</td>\n",
       "    </tr>\n",
       "    <tr>\n",
       "      <th>...</th>\n",
       "      <td>...</td>\n",
       "      <td>...</td>\n",
       "    </tr>\n",
       "    <tr>\n",
       "      <th>28704</th>\n",
       "      <td>6</td>\n",
       "      <td>[196, 67, 49, 33, 32, 28, 29, 38, 50, 43, 38, ...</td>\n",
       "    </tr>\n",
       "    <tr>\n",
       "      <th>28705</th>\n",
       "      <td>6</td>\n",
       "      <td>[187, 180, 187, 190, 177, 167, 185, 184, 178, ...</td>\n",
       "    </tr>\n",
       "    <tr>\n",
       "      <th>28706</th>\n",
       "      <td>6</td>\n",
       "      <td>[255, 200, 161, 104, 85, 49, 42, 42, 41, 43, 4...</td>\n",
       "    </tr>\n",
       "    <tr>\n",
       "      <th>28707</th>\n",
       "      <td>6</td>\n",
       "      <td>[143, 146, 147, 153, 134, 48, 48, 62, 47, 39, ...</td>\n",
       "    </tr>\n",
       "    <tr>\n",
       "      <th>28708</th>\n",
       "      <td>6</td>\n",
       "      <td>[255, 255, 255, 255, 255, 255, 255, 203, 145, ...</td>\n",
       "    </tr>\n",
       "  </tbody>\n",
       "</table>\n",
       "<p>28709 rows × 2 columns</p>\n",
       "</div>"
      ],
      "text/plain": [
       "      emotion                                             pixels\n",
       "0           0  [70, 80, 82, 72, 58, 58, 60, 63, 54, 58, 60, 4...\n",
       "1           0  [151, 150, 147, 155, 148, 133, 111, 140, 170, ...\n",
       "2           0  [30, 24, 21, 23, 25, 25, 49, 67, 84, 103, 120,...\n",
       "3           0  [123, 125, 124, 142, 209, 226, 234, 236, 231, ...\n",
       "4           0  [8, 9, 14, 21, 26, 32, 37, 46, 52, 62, 72, 70,...\n",
       "...       ...                                                ...\n",
       "28704       6  [196, 67, 49, 33, 32, 28, 29, 38, 50, 43, 38, ...\n",
       "28705       6  [187, 180, 187, 190, 177, 167, 185, 184, 178, ...\n",
       "28706       6  [255, 200, 161, 104, 85, 49, 42, 42, 41, 43, 4...\n",
       "28707       6  [143, 146, 147, 153, 134, 48, 48, 62, 47, 39, ...\n",
       "28708       6  [255, 255, 255, 255, 255, 255, 255, 203, 145, ...\n",
       "\n",
       "[28709 rows x 2 columns]"
      ]
     },
     "execution_count": 20,
     "metadata": {},
     "output_type": "execute_result"
    }
   ],
   "source": [
    "emotion_df"
   ]
  },
  {
   "cell_type": "code",
   "execution_count": 22,
   "id": "39240db0",
   "metadata": {},
   "outputs": [
    {
     "data": {
      "text/html": [
       "<div>\n",
       "<style scoped>\n",
       "    .dataframe tbody tr th:only-of-type {\n",
       "        vertical-align: middle;\n",
       "    }\n",
       "\n",
       "    .dataframe tbody tr th {\n",
       "        vertical-align: top;\n",
       "    }\n",
       "\n",
       "    .dataframe thead th {\n",
       "        text-align: right;\n",
       "    }\n",
       "</style>\n",
       "<table border=\"1\" class=\"dataframe\">\n",
       "  <thead>\n",
       "    <tr style=\"text-align: right;\">\n",
       "      <th></th>\n",
       "      <th>level_0</th>\n",
       "      <th>emotion</th>\n",
       "      <th>pixels</th>\n",
       "    </tr>\n",
       "  </thead>\n",
       "  <tbody>\n",
       "    <tr>\n",
       "      <th>0</th>\n",
       "      <td>11057</td>\n",
       "      <td>6</td>\n",
       "      <td>[196, 114, 51, 55, 35, 30, 35, 21, 31, 32, 43,...</td>\n",
       "    </tr>\n",
       "    <tr>\n",
       "      <th>1</th>\n",
       "      <td>15336</td>\n",
       "      <td>0</td>\n",
       "      <td>[160, 158, 160, 163, 163, 161, 163, 162, 161, ...</td>\n",
       "    </tr>\n",
       "    <tr>\n",
       "      <th>2</th>\n",
       "      <td>6112</td>\n",
       "      <td>3</td>\n",
       "      <td>[232, 232, 231, 230, 231, 230, 229, 229, 228, ...</td>\n",
       "    </tr>\n",
       "    <tr>\n",
       "      <th>3</th>\n",
       "      <td>5307</td>\n",
       "      <td>3</td>\n",
       "      <td>[149, 149, 152, 147, 150, 159, 164, 156, 150, ...</td>\n",
       "    </tr>\n",
       "    <tr>\n",
       "      <th>4</th>\n",
       "      <td>25492</td>\n",
       "      <td>1</td>\n",
       "      <td>[30, 32, 43, 35, 41, 40, 27, 17, 21, 25, 20, 1...</td>\n",
       "    </tr>\n",
       "    <tr>\n",
       "      <th>...</th>\n",
       "      <td>...</td>\n",
       "      <td>...</td>\n",
       "      <td>...</td>\n",
       "    </tr>\n",
       "    <tr>\n",
       "      <th>28704</th>\n",
       "      <td>22584</td>\n",
       "      <td>3</td>\n",
       "      <td>[35, 34, 36, 52, 58, 43, 43, 45, 47, 48, 48, 4...</td>\n",
       "    </tr>\n",
       "    <tr>\n",
       "      <th>28705</th>\n",
       "      <td>501</td>\n",
       "      <td>0</td>\n",
       "      <td>[158, 161, 84, 3, 8, 3, 2, 0, 1, 1, 0, 1, 0, 0...</td>\n",
       "    </tr>\n",
       "    <tr>\n",
       "      <th>28706</th>\n",
       "      <td>23166</td>\n",
       "      <td>6</td>\n",
       "      <td>[36, 53, 50, 34, 40, 46, 55, 64, 64, 77, 71, 5...</td>\n",
       "    </tr>\n",
       "    <tr>\n",
       "      <th>28707</th>\n",
       "      <td>20828</td>\n",
       "      <td>3</td>\n",
       "      <td>[26, 27, 27, 29, 20, 42, 60, 60, 87, 102, 112,...</td>\n",
       "    </tr>\n",
       "    <tr>\n",
       "      <th>28708</th>\n",
       "      <td>24958</td>\n",
       "      <td>4</td>\n",
       "      <td>[109, 97, 125, 135, 148, 168, 149, 149, 180, 1...</td>\n",
       "    </tr>\n",
       "  </tbody>\n",
       "</table>\n",
       "<p>28709 rows × 3 columns</p>\n",
       "</div>"
      ],
      "text/plain": [
       "       level_0 emotion                                             pixels\n",
       "0        11057       6  [196, 114, 51, 55, 35, 30, 35, 21, 31, 32, 43,...\n",
       "1        15336       0  [160, 158, 160, 163, 163, 161, 163, 162, 161, ...\n",
       "2         6112       3  [232, 232, 231, 230, 231, 230, 229, 229, 228, ...\n",
       "3         5307       3  [149, 149, 152, 147, 150, 159, 164, 156, 150, ...\n",
       "4        25492       1  [30, 32, 43, 35, 41, 40, 27, 17, 21, 25, 20, 1...\n",
       "...        ...     ...                                                ...\n",
       "28704    22584       3  [35, 34, 36, 52, 58, 43, 43, 45, 47, 48, 48, 4...\n",
       "28705      501       0  [158, 161, 84, 3, 8, 3, 2, 0, 1, 1, 0, 1, 0, 0...\n",
       "28706    23166       6  [36, 53, 50, 34, 40, 46, 55, 64, 64, 77, 71, 5...\n",
       "28707    20828       3  [26, 27, 27, 29, 20, 42, 60, 60, 87, 102, 112,...\n",
       "28708    24958       4  [109, 97, 125, 135, 148, 168, 149, 149, 180, 1...\n",
       "\n",
       "[28709 rows x 3 columns]"
      ]
     },
     "execution_count": 22,
     "metadata": {},
     "output_type": "execute_result"
    }
   ],
   "source": [
    "emotion_df = emotion_df.sample(frac=1, random_state=9).reset_index()\n",
    "emotion_df.drop(['index'], axis=1, inplace=True)\n",
    "emotion_df"
   ]
  },
  {
   "cell_type": "code",
   "execution_count": 24,
   "id": "6282fd99",
   "metadata": {},
   "outputs": [],
   "source": [
    "emotion_df.drop(['level_0'], axis=1, inplace=True)"
   ]
  },
  {
   "cell_type": "code",
   "execution_count": 26,
   "id": "7ccf6dbe",
   "metadata": {},
   "outputs": [],
   "source": [
    "emotion_df.to_csv('train_emotions.csv', index=False)"
   ]
  },
  {
   "cell_type": "code",
   "execution_count": null,
   "id": "ae137090",
   "metadata": {},
   "outputs": [],
   "source": []
  }
 ],
 "metadata": {
  "kernelspec": {
   "display_name": "Python 3",
   "language": "python",
   "name": "python3"
  },
  "language_info": {
   "codemirror_mode": {
    "name": "ipython",
    "version": 3
   },
   "file_extension": ".py",
   "mimetype": "text/x-python",
   "name": "python",
   "nbconvert_exporter": "python",
   "pygments_lexer": "ipython3",
   "version": "3.8.8"
  }
 },
 "nbformat": 4,
 "nbformat_minor": 5
}
