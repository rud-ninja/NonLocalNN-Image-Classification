{
  "nbformat": 4,
  "nbformat_minor": 0,
  "metadata": {
    "colab": {
      "provenance": []
    },
    "kernelspec": {
      "name": "python3",
      "display_name": "Python 3"
    },
    "language_info": {
      "name": "python"
    }
  },
  "cells": [
    {
      "cell_type": "code",
      "execution_count": null,
      "metadata": {
        "id": "KVsPaa_bMtGW"
      },
      "outputs": [],
      "source": [
        "import pandas as pd\n",
        "from PIL import Image\n",
        "import numpy as np\n",
        "import matplotlib.pyplot as plt\n",
        "import keras\n",
        "from sklearn.model_selection import train_test_split\n",
        "from keras.layers import Conv2D, MaxPool2D, AveragePooling2D, Input, BatchNormalization, MaxPooling2D, Activation, Flatten, Dense, Dropout\n",
        "from keras.models import Model\n",
        "from keras.utils import to_categorical\n",
        "from sklearn.metrics import classification_report\n",
        "from imblearn.over_sampling import RandomOverSampler\n",
        "from keras.preprocessing import image\n",
        "import scipy\n",
        "import os\n",
        "import cv2"
      ]
    },
    {
      "cell_type": "code",
      "source": [
        "df = pd.read_csv('/content/drive/MyDrive/train_emotions.csv')"
      ],
      "metadata": {
        "id": "GKuFfPlrcfrh"
      },
      "execution_count": null,
      "outputs": []
    },
    {
      "cell_type": "code",
      "source": [
        "df.shape"
      ],
      "metadata": {
        "colab": {
          "base_uri": "https://localhost:8080/"
        },
        "id": "soA07BryHEu7",
        "outputId": "e83fe0b5-b200-4ba6-e412-be44d515d020"
      },
      "execution_count": null,
      "outputs": [
        {
          "output_type": "execute_result",
          "data": {
            "text/plain": [
              "(28709, 2)"
            ]
          },
          "metadata": {},
          "execution_count": 41
        }
      ]
    },
    {
      "cell_type": "code",
      "source": [
        "df.columns.values"
      ],
      "metadata": {
        "colab": {
          "base_uri": "https://localhost:8080/"
        },
        "id": "TXcADjxVHHSF",
        "outputId": "dc0f29f6-99f5-48ba-cc63-a4029746deaf"
      },
      "execution_count": null,
      "outputs": [
        {
          "output_type": "execute_result",
          "data": {
            "text/plain": [
              "array(['emotion', 'pixels'], dtype=object)"
            ]
          },
          "metadata": {},
          "execution_count": 42
        }
      ]
    },
    {
      "cell_type": "code",
      "source": [
        "count_df = df.groupby('emotion').count()\n",
        "count_df"
      ],
      "metadata": {
        "colab": {
          "base_uri": "https://localhost:8080/",
          "height": 300
        },
        "id": "XOTstjlHHQMI",
        "outputId": "053f1eec-687d-4c31-ff5c-3f396f81a74f"
      },
      "execution_count": null,
      "outputs": [
        {
          "output_type": "execute_result",
          "data": {
            "text/plain": [
              "         pixels\n",
              "emotion        \n",
              "0          3995\n",
              "1           436\n",
              "2          4097\n",
              "3          7215\n",
              "4          4965\n",
              "5          4830\n",
              "6          3171"
            ],
            "text/html": [
              "\n",
              "  <div id=\"df-99d6577d-3453-4c9d-ab6d-b7c7c20910fd\">\n",
              "    <div class=\"colab-df-container\">\n",
              "      <div>\n",
              "<style scoped>\n",
              "    .dataframe tbody tr th:only-of-type {\n",
              "        vertical-align: middle;\n",
              "    }\n",
              "\n",
              "    .dataframe tbody tr th {\n",
              "        vertical-align: top;\n",
              "    }\n",
              "\n",
              "    .dataframe thead th {\n",
              "        text-align: right;\n",
              "    }\n",
              "</style>\n",
              "<table border=\"1\" class=\"dataframe\">\n",
              "  <thead>\n",
              "    <tr style=\"text-align: right;\">\n",
              "      <th></th>\n",
              "      <th>pixels</th>\n",
              "    </tr>\n",
              "    <tr>\n",
              "      <th>emotion</th>\n",
              "      <th></th>\n",
              "    </tr>\n",
              "  </thead>\n",
              "  <tbody>\n",
              "    <tr>\n",
              "      <th>0</th>\n",
              "      <td>3995</td>\n",
              "    </tr>\n",
              "    <tr>\n",
              "      <th>1</th>\n",
              "      <td>436</td>\n",
              "    </tr>\n",
              "    <tr>\n",
              "      <th>2</th>\n",
              "      <td>4097</td>\n",
              "    </tr>\n",
              "    <tr>\n",
              "      <th>3</th>\n",
              "      <td>7215</td>\n",
              "    </tr>\n",
              "    <tr>\n",
              "      <th>4</th>\n",
              "      <td>4965</td>\n",
              "    </tr>\n",
              "    <tr>\n",
              "      <th>5</th>\n",
              "      <td>4830</td>\n",
              "    </tr>\n",
              "    <tr>\n",
              "      <th>6</th>\n",
              "      <td>3171</td>\n",
              "    </tr>\n",
              "  </tbody>\n",
              "</table>\n",
              "</div>\n",
              "      <button class=\"colab-df-convert\" onclick=\"convertToInteractive('df-99d6577d-3453-4c9d-ab6d-b7c7c20910fd')\"\n",
              "              title=\"Convert this dataframe to an interactive table.\"\n",
              "              style=\"display:none;\">\n",
              "        \n",
              "  <svg xmlns=\"http://www.w3.org/2000/svg\" height=\"24px\"viewBox=\"0 0 24 24\"\n",
              "       width=\"24px\">\n",
              "    <path d=\"M0 0h24v24H0V0z\" fill=\"none\"/>\n",
              "    <path d=\"M18.56 5.44l.94 2.06.94-2.06 2.06-.94-2.06-.94-.94-2.06-.94 2.06-2.06.94zm-11 1L8.5 8.5l.94-2.06 2.06-.94-2.06-.94L8.5 2.5l-.94 2.06-2.06.94zm10 10l.94 2.06.94-2.06 2.06-.94-2.06-.94-.94-2.06-.94 2.06-2.06.94z\"/><path d=\"M17.41 7.96l-1.37-1.37c-.4-.4-.92-.59-1.43-.59-.52 0-1.04.2-1.43.59L10.3 9.45l-7.72 7.72c-.78.78-.78 2.05 0 2.83L4 21.41c.39.39.9.59 1.41.59.51 0 1.02-.2 1.41-.59l7.78-7.78 2.81-2.81c.8-.78.8-2.07 0-2.86zM5.41 20L4 18.59l7.72-7.72 1.47 1.35L5.41 20z\"/>\n",
              "  </svg>\n",
              "      </button>\n",
              "      \n",
              "  <style>\n",
              "    .colab-df-container {\n",
              "      display:flex;\n",
              "      flex-wrap:wrap;\n",
              "      gap: 12px;\n",
              "    }\n",
              "\n",
              "    .colab-df-convert {\n",
              "      background-color: #E8F0FE;\n",
              "      border: none;\n",
              "      border-radius: 50%;\n",
              "      cursor: pointer;\n",
              "      display: none;\n",
              "      fill: #1967D2;\n",
              "      height: 32px;\n",
              "      padding: 0 0 0 0;\n",
              "      width: 32px;\n",
              "    }\n",
              "\n",
              "    .colab-df-convert:hover {\n",
              "      background-color: #E2EBFA;\n",
              "      box-shadow: 0px 1px 2px rgba(60, 64, 67, 0.3), 0px 1px 3px 1px rgba(60, 64, 67, 0.15);\n",
              "      fill: #174EA6;\n",
              "    }\n",
              "\n",
              "    [theme=dark] .colab-df-convert {\n",
              "      background-color: #3B4455;\n",
              "      fill: #D2E3FC;\n",
              "    }\n",
              "\n",
              "    [theme=dark] .colab-df-convert:hover {\n",
              "      background-color: #434B5C;\n",
              "      box-shadow: 0px 1px 3px 1px rgba(0, 0, 0, 0.15);\n",
              "      filter: drop-shadow(0px 1px 2px rgba(0, 0, 0, 0.3));\n",
              "      fill: #FFFFFF;\n",
              "    }\n",
              "  </style>\n",
              "\n",
              "      <script>\n",
              "        const buttonEl =\n",
              "          document.querySelector('#df-99d6577d-3453-4c9d-ab6d-b7c7c20910fd button.colab-df-convert');\n",
              "        buttonEl.style.display =\n",
              "          google.colab.kernel.accessAllowed ? 'block' : 'none';\n",
              "\n",
              "        async function convertToInteractive(key) {\n",
              "          const element = document.querySelector('#df-99d6577d-3453-4c9d-ab6d-b7c7c20910fd');\n",
              "          const dataTable =\n",
              "            await google.colab.kernel.invokeFunction('convertToInteractive',\n",
              "                                                     [key], {});\n",
              "          if (!dataTable) return;\n",
              "\n",
              "          const docLinkHtml = 'Like what you see? Visit the ' +\n",
              "            '<a target=\"_blank\" href=https://colab.research.google.com/notebooks/data_table.ipynb>data table notebook</a>'\n",
              "            + ' to learn more about interactive tables.';\n",
              "          element.innerHTML = '';\n",
              "          dataTable['output_type'] = 'display_data';\n",
              "          await google.colab.output.renderOutput(dataTable, element);\n",
              "          const docLink = document.createElement('div');\n",
              "          docLink.innerHTML = docLinkHtml;\n",
              "          element.appendChild(docLink);\n",
              "        }\n",
              "      </script>\n",
              "    </div>\n",
              "  </div>\n",
              "  "
            ]
          },
          "metadata": {},
          "execution_count": 43
        }
      ]
    },
    {
      "cell_type": "code",
      "source": [
        "frames = []\n",
        "for emo in range(7):\n",
        "  sliced_df = df[df['emotion']==emo]\n",
        "  if emo==1:\n",
        "    frames.append(sliced_df)\n",
        "  else:\n",
        "    frames.append(sliced_df.head(2000))\n",
        "\n",
        "df = pd.concat(frames)"
      ],
      "metadata": {
        "id": "FsC_l5VrIGxJ"
      },
      "execution_count": null,
      "outputs": []
    },
    {
      "cell_type": "code",
      "source": [
        "df.groupby('emotion').count()"
      ],
      "metadata": {
        "colab": {
          "base_uri": "https://localhost:8080/",
          "height": 300
        },
        "id": "ZrJq8oY4IveP",
        "outputId": "25b04d1d-411a-4df1-93d8-349fe85482a0"
      },
      "execution_count": null,
      "outputs": [
        {
          "output_type": "execute_result",
          "data": {
            "text/plain": [
              "         pixels\n",
              "emotion        \n",
              "0          2000\n",
              "1           436\n",
              "2          2000\n",
              "3          2000\n",
              "4          2000\n",
              "5          2000\n",
              "6          2000"
            ],
            "text/html": [
              "\n",
              "  <div id=\"df-2b0d1e0c-bbe6-4c03-b300-e6dec69bacbf\">\n",
              "    <div class=\"colab-df-container\">\n",
              "      <div>\n",
              "<style scoped>\n",
              "    .dataframe tbody tr th:only-of-type {\n",
              "        vertical-align: middle;\n",
              "    }\n",
              "\n",
              "    .dataframe tbody tr th {\n",
              "        vertical-align: top;\n",
              "    }\n",
              "\n",
              "    .dataframe thead th {\n",
              "        text-align: right;\n",
              "    }\n",
              "</style>\n",
              "<table border=\"1\" class=\"dataframe\">\n",
              "  <thead>\n",
              "    <tr style=\"text-align: right;\">\n",
              "      <th></th>\n",
              "      <th>pixels</th>\n",
              "    </tr>\n",
              "    <tr>\n",
              "      <th>emotion</th>\n",
              "      <th></th>\n",
              "    </tr>\n",
              "  </thead>\n",
              "  <tbody>\n",
              "    <tr>\n",
              "      <th>0</th>\n",
              "      <td>2000</td>\n",
              "    </tr>\n",
              "    <tr>\n",
              "      <th>1</th>\n",
              "      <td>436</td>\n",
              "    </tr>\n",
              "    <tr>\n",
              "      <th>2</th>\n",
              "      <td>2000</td>\n",
              "    </tr>\n",
              "    <tr>\n",
              "      <th>3</th>\n",
              "      <td>2000</td>\n",
              "    </tr>\n",
              "    <tr>\n",
              "      <th>4</th>\n",
              "      <td>2000</td>\n",
              "    </tr>\n",
              "    <tr>\n",
              "      <th>5</th>\n",
              "      <td>2000</td>\n",
              "    </tr>\n",
              "    <tr>\n",
              "      <th>6</th>\n",
              "      <td>2000</td>\n",
              "    </tr>\n",
              "  </tbody>\n",
              "</table>\n",
              "</div>\n",
              "      <button class=\"colab-df-convert\" onclick=\"convertToInteractive('df-2b0d1e0c-bbe6-4c03-b300-e6dec69bacbf')\"\n",
              "              title=\"Convert this dataframe to an interactive table.\"\n",
              "              style=\"display:none;\">\n",
              "        \n",
              "  <svg xmlns=\"http://www.w3.org/2000/svg\" height=\"24px\"viewBox=\"0 0 24 24\"\n",
              "       width=\"24px\">\n",
              "    <path d=\"M0 0h24v24H0V0z\" fill=\"none\"/>\n",
              "    <path d=\"M18.56 5.44l.94 2.06.94-2.06 2.06-.94-2.06-.94-.94-2.06-.94 2.06-2.06.94zm-11 1L8.5 8.5l.94-2.06 2.06-.94-2.06-.94L8.5 2.5l-.94 2.06-2.06.94zm10 10l.94 2.06.94-2.06 2.06-.94-2.06-.94-.94-2.06-.94 2.06-2.06.94z\"/><path d=\"M17.41 7.96l-1.37-1.37c-.4-.4-.92-.59-1.43-.59-.52 0-1.04.2-1.43.59L10.3 9.45l-7.72 7.72c-.78.78-.78 2.05 0 2.83L4 21.41c.39.39.9.59 1.41.59.51 0 1.02-.2 1.41-.59l7.78-7.78 2.81-2.81c.8-.78.8-2.07 0-2.86zM5.41 20L4 18.59l7.72-7.72 1.47 1.35L5.41 20z\"/>\n",
              "  </svg>\n",
              "      </button>\n",
              "      \n",
              "  <style>\n",
              "    .colab-df-container {\n",
              "      display:flex;\n",
              "      flex-wrap:wrap;\n",
              "      gap: 12px;\n",
              "    }\n",
              "\n",
              "    .colab-df-convert {\n",
              "      background-color: #E8F0FE;\n",
              "      border: none;\n",
              "      border-radius: 50%;\n",
              "      cursor: pointer;\n",
              "      display: none;\n",
              "      fill: #1967D2;\n",
              "      height: 32px;\n",
              "      padding: 0 0 0 0;\n",
              "      width: 32px;\n",
              "    }\n",
              "\n",
              "    .colab-df-convert:hover {\n",
              "      background-color: #E2EBFA;\n",
              "      box-shadow: 0px 1px 2px rgba(60, 64, 67, 0.3), 0px 1px 3px 1px rgba(60, 64, 67, 0.15);\n",
              "      fill: #174EA6;\n",
              "    }\n",
              "\n",
              "    [theme=dark] .colab-df-convert {\n",
              "      background-color: #3B4455;\n",
              "      fill: #D2E3FC;\n",
              "    }\n",
              "\n",
              "    [theme=dark] .colab-df-convert:hover {\n",
              "      background-color: #434B5C;\n",
              "      box-shadow: 0px 1px 3px 1px rgba(0, 0, 0, 0.15);\n",
              "      filter: drop-shadow(0px 1px 2px rgba(0, 0, 0, 0.3));\n",
              "      fill: #FFFFFF;\n",
              "    }\n",
              "  </style>\n",
              "\n",
              "      <script>\n",
              "        const buttonEl =\n",
              "          document.querySelector('#df-2b0d1e0c-bbe6-4c03-b300-e6dec69bacbf button.colab-df-convert');\n",
              "        buttonEl.style.display =\n",
              "          google.colab.kernel.accessAllowed ? 'block' : 'none';\n",
              "\n",
              "        async function convertToInteractive(key) {\n",
              "          const element = document.querySelector('#df-2b0d1e0c-bbe6-4c03-b300-e6dec69bacbf');\n",
              "          const dataTable =\n",
              "            await google.colab.kernel.invokeFunction('convertToInteractive',\n",
              "                                                     [key], {});\n",
              "          if (!dataTable) return;\n",
              "\n",
              "          const docLinkHtml = 'Like what you see? Visit the ' +\n",
              "            '<a target=\"_blank\" href=https://colab.research.google.com/notebooks/data_table.ipynb>data table notebook</a>'\n",
              "            + ' to learn more about interactive tables.';\n",
              "          element.innerHTML = '';\n",
              "          dataTable['output_type'] = 'display_data';\n",
              "          await google.colab.output.renderOutput(dataTable, element);\n",
              "          const docLink = document.createElement('div');\n",
              "          docLink.innerHTML = docLinkHtml;\n",
              "          element.appendChild(docLink);\n",
              "        }\n",
              "      </script>\n",
              "    </div>\n",
              "  </div>\n",
              "  "
            ]
          },
          "metadata": {},
          "execution_count": 45
        }
      ]
    },
    {
      "cell_type": "code",
      "source": [
        "pixel_data = df['pixels']\n",
        "label_data = df['emotion']"
      ],
      "metadata": {
        "id": "GsEPB2gLrOwl"
      },
      "execution_count": null,
      "outputs": []
    },
    {
      "cell_type": "code",
      "source": [
        "def preprocess_pixels(pixel_data):\n",
        "  images = []\n",
        "  for i in range(len(pixel_data)):\n",
        "    x = pixel_data[i]\n",
        "    x = x.replace('[', '')\n",
        "    x = x.replace(']', '')\n",
        "    img = np.fromstring(x, dtype='float32', sep=', ')\n",
        "    img = img.reshape(48,48,1)\n",
        "    images.append(img)\n",
        "\n",
        "  X = np.array(images)\n",
        "  \n",
        " \n",
        "\n",
        "  return X"
      ],
      "metadata": {
        "id": "3VLc95fDrPQj"
      },
      "execution_count": null,
      "outputs": []
    },
    {
      "cell_type": "code",
      "source": [
        "oversampler = RandomOverSampler(sampling_strategy='auto')\n",
        "\n",
        "X_over, Y_over = oversampler.fit_resample(pixel_data.values.reshape(-1,1), label_data)\n",
        "\n",
        "X_over_series = pd.Series(X_over.flatten())"
      ],
      "metadata": {
        "id": "CQFjxJbusIQa"
      },
      "execution_count": null,
      "outputs": []
    },
    {
      "cell_type": "code",
      "source": [
        "X = preprocess_pixels(X_over_series)\n",
        "Y = np.array(Y_over).astype('float32')\n",
        "Y = Y.reshape(Y.shape[0],1)\n",
        "\n",
        "X_train, X_test, Y_train, Y_test = train_test_split(X, Y, test_size = 0.2, random_state = 9)"
      ],
      "metadata": {
        "id": "6g53rw16sZev"
      },
      "execution_count": null,
      "outputs": []
    },
    {
      "cell_type": "code",
      "source": [
        "Y_train.shape"
      ],
      "metadata": {
        "id": "SeQopsT-uf4P",
        "colab": {
          "base_uri": "https://localhost:8080/"
        },
        "outputId": "c5bc2155-d430-43d4-9712-fb737e42c49e"
      },
      "execution_count": null,
      "outputs": [
        {
          "output_type": "execute_result",
          "data": {
            "text/plain": [
              "(11200, 1)"
            ]
          },
          "metadata": {},
          "execution_count": 52
        }
      ]
    },
    {
      "cell_type": "code",
      "source": [
        "def emotion_recognition(input_shape):\n",
        "\n",
        "  X_input = Input(input_shape)\n",
        "\n",
        "  X = Conv2D(32, kernel_size=(3,3), strides=(1,1), padding='valid')(X_input)\n",
        "  X = BatchNormalization(axis=3)(X)\n",
        "  X = Activation('relu')(X)\n",
        "\n",
        "\n",
        "  X = Conv2D(64, (3,3), strides=(1,1), padding = 'same')(X)\n",
        "  X = BatchNormalization(axis=3)(X)\n",
        "  X = Activation('relu')(X)\n",
        "\n",
        "  X = MaxPooling2D((2,2))(X)\n",
        "\n",
        "  X = Conv2D(64, (3,3), strides=(1,1), padding = 'valid')(X)\n",
        "  X = BatchNormalization(axis=3)(X)\n",
        "  X = Activation('relu')(X)\n",
        "\n",
        "  X = Conv2D(128, (3,3), strides=(1,1), padding = 'same')(X)\n",
        "  X = BatchNormalization(axis=3)(X)\n",
        "  X = Activation('relu')(X)\n",
        "\n",
        "\n",
        "  X = MaxPooling2D((2,2))(X)\n",
        "\n",
        "  X = Conv2D(128, (3,3), strides=(1,1), padding = 'valid')(X)\n",
        "  X = BatchNormalization(axis=3)(X)\n",
        "  X = Activation('relu')(X)\n",
        "\n",
        " \n",
        "\n",
        "  X = MaxPooling2D((2,2))(X)\n",
        "  X = Flatten()(X)\n",
        "  X = Dense(200, activation='relu')(X)\n",
        "  X = Dropout(0.6)(X)\n",
        "  X = Dense(7, activation = 'softmax')(X)\n",
        "\n",
        "  model = Model(inputs=X_input, outputs=X)\n",
        "\n",
        "  return model"
      ],
      "metadata": {
        "id": "WXHiKTYG1YE2"
      },
      "execution_count": null,
      "outputs": []
    },
    {
      "cell_type": "code",
      "source": [
        "model = emotion_recognition((48,48,1))\n",
        "adam = keras.optimizers.Adam(learning_rate=0.001)\n",
        "model.compile(optimizer=adam, loss='categorical_crossentropy', metrics=['accuracy'])"
      ],
      "metadata": {
        "id": "RJdDdhP49HCu"
      },
      "execution_count": null,
      "outputs": []
    },
    {
      "cell_type": "code",
      "source": [
        "y_train = to_categorical(Y_train, num_classes=7)\n",
        "\n",
        "y_test = to_categorical(Y_test, num_classes=7)"
      ],
      "metadata": {
        "id": "0Ci9n0kz16yT"
      },
      "execution_count": null,
      "outputs": []
    },
    {
      "cell_type": "code",
      "source": [
        "model.fit(X_train, y_train, epochs=30, validation_data=(X_test, y_test))"
      ],
      "metadata": {
        "id": "dPYuaD5_2BB2",
        "colab": {
          "base_uri": "https://localhost:8080/"
        },
        "outputId": "db97ba1f-ef8c-4aee-aad6-892f83316df3"
      },
      "execution_count": null,
      "outputs": [
        {
          "output_type": "stream",
          "name": "stdout",
          "text": [
            "Epoch 1/30\n",
            "350/350 [==============================] - 275s 784ms/step - loss: 1.9749 - accuracy: 0.1676 - val_loss: 1.9072 - val_accuracy: 0.2454\n",
            "Epoch 2/30\n",
            "350/350 [==============================] - 274s 783ms/step - loss: 1.8898 - accuracy: 0.1928 - val_loss: 1.7785 - val_accuracy: 0.2746\n",
            "Epoch 3/30\n",
            "350/350 [==============================] - 271s 774ms/step - loss: 1.8574 - accuracy: 0.2170 - val_loss: 1.7905 - val_accuracy: 0.3396\n",
            "Epoch 4/30\n",
            "350/350 [==============================] - 269s 770ms/step - loss: 1.8387 - accuracy: 0.2260 - val_loss: 1.7538 - val_accuracy: 0.3236\n",
            "Epoch 5/30\n",
            "350/350 [==============================] - 270s 771ms/step - loss: 1.8188 - accuracy: 0.2462 - val_loss: 1.7123 - val_accuracy: 0.3668\n",
            "Epoch 6/30\n",
            "350/350 [==============================] - 269s 769ms/step - loss: 1.7892 - accuracy: 0.2646 - val_loss: 1.6630 - val_accuracy: 0.3636\n",
            "Epoch 7/30\n",
            "350/350 [==============================] - 272s 776ms/step - loss: 1.7712 - accuracy: 0.2748 - val_loss: 1.6952 - val_accuracy: 0.3600\n",
            "Epoch 8/30\n",
            "350/350 [==============================] - 266s 759ms/step - loss: 1.7545 - accuracy: 0.2882 - val_loss: 1.6698 - val_accuracy: 0.3764\n",
            "Epoch 9/30\n",
            "350/350 [==============================] - 264s 755ms/step - loss: 1.7257 - accuracy: 0.3049 - val_loss: 1.6117 - val_accuracy: 0.4143\n",
            "Epoch 10/30\n",
            "350/350 [==============================] - 270s 771ms/step - loss: 1.7106 - accuracy: 0.3054 - val_loss: 1.6664 - val_accuracy: 0.3736\n",
            "Epoch 11/30\n",
            "350/350 [==============================] - 263s 751ms/step - loss: 1.6948 - accuracy: 0.3166 - val_loss: 1.5845 - val_accuracy: 0.4125\n",
            "Epoch 12/30\n",
            "350/350 [==============================] - 254s 725ms/step - loss: 1.6829 - accuracy: 0.3260 - val_loss: 1.5122 - val_accuracy: 0.4661\n",
            "Epoch 13/30\n",
            "350/350 [==============================] - 250s 715ms/step - loss: 1.6687 - accuracy: 0.3296 - val_loss: 1.5638 - val_accuracy: 0.4425\n",
            "Epoch 14/30\n",
            "350/350 [==============================] - 245s 701ms/step - loss: 1.6534 - accuracy: 0.3360 - val_loss: 1.4989 - val_accuracy: 0.4393\n",
            "Epoch 15/30\n",
            "350/350 [==============================] - 248s 708ms/step - loss: 1.6570 - accuracy: 0.3369 - val_loss: 1.5005 - val_accuracy: 0.4621\n",
            "Epoch 16/30\n",
            "350/350 [==============================] - 247s 707ms/step - loss: 1.6311 - accuracy: 0.3395 - val_loss: 1.5826 - val_accuracy: 0.4132\n",
            "Epoch 17/30\n",
            "350/350 [==============================] - 248s 710ms/step - loss: 1.6182 - accuracy: 0.3479 - val_loss: 1.5745 - val_accuracy: 0.4379\n",
            "Epoch 18/30\n",
            "350/350 [==============================] - 248s 710ms/step - loss: 1.6186 - accuracy: 0.3468 - val_loss: 1.5750 - val_accuracy: 0.4186\n",
            "Epoch 19/30\n",
            "350/350 [==============================] - 247s 705ms/step - loss: 1.5963 - accuracy: 0.3506 - val_loss: 1.8303 - val_accuracy: 0.3611\n",
            "Epoch 20/30\n",
            "350/350 [==============================] - 248s 710ms/step - loss: 1.5887 - accuracy: 0.3571 - val_loss: 1.4895 - val_accuracy: 0.4493\n",
            "Epoch 21/30\n",
            "350/350 [==============================] - 248s 708ms/step - loss: 1.5693 - accuracy: 0.3714 - val_loss: 1.4899 - val_accuracy: 0.4679\n",
            "Epoch 22/30\n",
            "350/350 [==============================] - 245s 700ms/step - loss: 1.5652 - accuracy: 0.3646 - val_loss: 1.4934 - val_accuracy: 0.4668\n",
            "Epoch 23/30\n",
            "350/350 [==============================] - 248s 709ms/step - loss: 1.5552 - accuracy: 0.3734 - val_loss: 1.4741 - val_accuracy: 0.4543\n",
            "Epoch 24/30\n",
            "350/350 [==============================] - 249s 711ms/step - loss: 1.5566 - accuracy: 0.3733 - val_loss: 1.4805 - val_accuracy: 0.4707\n",
            "Epoch 25/30\n",
            "350/350 [==============================] - 245s 701ms/step - loss: 1.5435 - accuracy: 0.3732 - val_loss: 1.4954 - val_accuracy: 0.4518\n",
            "Epoch 26/30\n",
            "350/350 [==============================] - 249s 712ms/step - loss: 1.5388 - accuracy: 0.3779 - val_loss: 1.4861 - val_accuracy: 0.4868\n",
            "Epoch 27/30\n",
            "350/350 [==============================] - 248s 710ms/step - loss: 1.5387 - accuracy: 0.3777 - val_loss: 1.5054 - val_accuracy: 0.4543\n",
            "Epoch 28/30\n",
            "350/350 [==============================] - 246s 703ms/step - loss: 1.5358 - accuracy: 0.3777 - val_loss: 1.5083 - val_accuracy: 0.4671\n",
            "Epoch 29/30\n",
            "350/350 [==============================] - 246s 703ms/step - loss: 1.5104 - accuracy: 0.3874 - val_loss: 1.5403 - val_accuracy: 0.4654\n",
            "Epoch 30/30\n",
            "350/350 [==============================] - 246s 702ms/step - loss: 1.5213 - accuracy: 0.3895 - val_loss: 1.5546 - val_accuracy: 0.4375\n"
          ]
        },
        {
          "output_type": "execute_result",
          "data": {
            "text/plain": [
              "<keras.callbacks.History at 0x7f1b68d4c990>"
            ]
          },
          "metadata": {},
          "execution_count": 56
        }
      ]
    },
    {
      "cell_type": "code",
      "source": [
        "# model_json = model.to_json()\n",
        "# with open(\"model.json\", \"w\") as json_file:\n",
        "#   json_file.write(model_json)\n",
        "#   model.save_weights(\"model.h5\")\n",
        "#   print(\"Saved model to disk\")"
      ],
      "metadata": {
        "colab": {
          "base_uri": "https://localhost:8080/"
        },
        "id": "VmnprJ_WP1gx",
        "outputId": "15218bd3-b85d-49cd-924e-099e02f86244"
      },
      "execution_count": null,
      "outputs": [
        {
          "output_type": "stream",
          "name": "stdout",
          "text": [
            "Saved model to disk\n"
          ]
        }
      ]
    },
    {
      "cell_type": "code",
      "source": [
        "# from google.colab import files\n",
        "# files.download('model.h5')"
      ],
      "metadata": {
        "colab": {
          "base_uri": "https://localhost:8080/",
          "height": 17
        },
        "id": "9ZUnxH6-QHHM",
        "outputId": "65a4e4b9-8e7a-4901-eec3-391809f958f9"
      },
      "execution_count": null,
      "outputs": [
        {
          "output_type": "display_data",
          "data": {
            "text/plain": [
              "<IPython.core.display.Javascript object>"
            ],
            "application/javascript": [
              "\n",
              "    async function download(id, filename, size) {\n",
              "      if (!google.colab.kernel.accessAllowed) {\n",
              "        return;\n",
              "      }\n",
              "      const div = document.createElement('div');\n",
              "      const label = document.createElement('label');\n",
              "      label.textContent = `Downloading \"${filename}\": `;\n",
              "      div.appendChild(label);\n",
              "      const progress = document.createElement('progress');\n",
              "      progress.max = size;\n",
              "      div.appendChild(progress);\n",
              "      document.body.appendChild(div);\n",
              "\n",
              "      const buffers = [];\n",
              "      let downloaded = 0;\n",
              "\n",
              "      const channel = await google.colab.kernel.comms.open(id);\n",
              "      // Send a message to notify the kernel that we're ready.\n",
              "      channel.send({})\n",
              "\n",
              "      for await (const message of channel.messages) {\n",
              "        // Send a message to notify the kernel that we're ready.\n",
              "        channel.send({})\n",
              "        if (message.buffers) {\n",
              "          for (const buffer of message.buffers) {\n",
              "            buffers.push(buffer);\n",
              "            downloaded += buffer.byteLength;\n",
              "            progress.value = downloaded;\n",
              "          }\n",
              "        }\n",
              "      }\n",
              "      const blob = new Blob(buffers, {type: 'application/binary'});\n",
              "      const a = document.createElement('a');\n",
              "      a.href = window.URL.createObjectURL(blob);\n",
              "      a.download = filename;\n",
              "      div.appendChild(a);\n",
              "      a.click();\n",
              "      div.remove();\n",
              "    }\n",
              "  "
            ]
          },
          "metadata": {}
        },
        {
          "output_type": "display_data",
          "data": {
            "text/plain": [
              "<IPython.core.display.Javascript object>"
            ],
            "application/javascript": [
              "download(\"download_c96869fa-3428-4538-af24-5b094b30fed6\", \"model.h5\", 2816232)"
            ]
          },
          "metadata": {}
        }
      ]
    },
    {
      "cell_type": "code",
      "source": [
        "preds = model.predict(X_train)\n",
        "def get_class(preds):\n",
        "  pred_class = np.zeros((preds.shape[0],1))\n",
        "\n",
        "  for i in range(len(preds)):\n",
        "   pred_class[i] = np.argmax(preds[i])\n",
        "\n",
        "  return pred_class\n",
        "\n",
        "pred_class_train = get_class(preds)"
      ],
      "metadata": {
        "colab": {
          "base_uri": "https://localhost:8080/"
        },
        "id": "iADtzz8TQTv1",
        "outputId": "ef6520c4-6225-4bd5-e036-500e8bb88ceb"
      },
      "execution_count": null,
      "outputs": [
        {
          "output_type": "stream",
          "name": "stdout",
          "text": [
            "350/350 [==============================] - 57s 164ms/step\n"
          ]
        }
      ]
    },
    {
      "cell_type": "code",
      "source": [
        "label_dict = {0 : 'Angry', 1 : 'Disgust', 2 : 'Fear', 3 : 'Happiness', 5 : 'Sad', 6 : 'Surprise', 4 : 'Neutral'}"
      ],
      "metadata": {
        "id": "OR0bFxmYR0VS"
      },
      "execution_count": null,
      "outputs": []
    },
    {
      "cell_type": "code",
      "source": [
        "from google.colab import files\n",
        "uploaded = files.upload()"
      ],
      "metadata": {
        "colab": {
          "base_uri": "https://localhost:8080/",
          "height": 73
        },
        "id": "MUW-_CFKKFki",
        "outputId": "98eb36db-f89d-4b02-b180-b59d779731f4"
      },
      "execution_count": null,
      "outputs": [
        {
          "output_type": "display_data",
          "data": {
            "text/plain": [
              "<IPython.core.display.HTML object>"
            ],
            "text/html": [
              "\n",
              "     <input type=\"file\" id=\"files-834c08f3-8880-4884-b68f-3e7f591b9da0\" name=\"files[]\" multiple disabled\n",
              "        style=\"border:none\" />\n",
              "     <output id=\"result-834c08f3-8880-4884-b68f-3e7f591b9da0\">\n",
              "      Upload widget is only available when the cell has been executed in the\n",
              "      current browser session. Please rerun this cell to enable.\n",
              "      </output>\n",
              "      <script>// Copyright 2017 Google LLC\n",
              "//\n",
              "// Licensed under the Apache License, Version 2.0 (the \"License\");\n",
              "// you may not use this file except in compliance with the License.\n",
              "// You may obtain a copy of the License at\n",
              "//\n",
              "//      http://www.apache.org/licenses/LICENSE-2.0\n",
              "//\n",
              "// Unless required by applicable law or agreed to in writing, software\n",
              "// distributed under the License is distributed on an \"AS IS\" BASIS,\n",
              "// WITHOUT WARRANTIES OR CONDITIONS OF ANY KIND, either express or implied.\n",
              "// See the License for the specific language governing permissions and\n",
              "// limitations under the License.\n",
              "\n",
              "/**\n",
              " * @fileoverview Helpers for google.colab Python module.\n",
              " */\n",
              "(function(scope) {\n",
              "function span(text, styleAttributes = {}) {\n",
              "  const element = document.createElement('span');\n",
              "  element.textContent = text;\n",
              "  for (const key of Object.keys(styleAttributes)) {\n",
              "    element.style[key] = styleAttributes[key];\n",
              "  }\n",
              "  return element;\n",
              "}\n",
              "\n",
              "// Max number of bytes which will be uploaded at a time.\n",
              "const MAX_PAYLOAD_SIZE = 100 * 1024;\n",
              "\n",
              "function _uploadFiles(inputId, outputId) {\n",
              "  const steps = uploadFilesStep(inputId, outputId);\n",
              "  const outputElement = document.getElementById(outputId);\n",
              "  // Cache steps on the outputElement to make it available for the next call\n",
              "  // to uploadFilesContinue from Python.\n",
              "  outputElement.steps = steps;\n",
              "\n",
              "  return _uploadFilesContinue(outputId);\n",
              "}\n",
              "\n",
              "// This is roughly an async generator (not supported in the browser yet),\n",
              "// where there are multiple asynchronous steps and the Python side is going\n",
              "// to poll for completion of each step.\n",
              "// This uses a Promise to block the python side on completion of each step,\n",
              "// then passes the result of the previous step as the input to the next step.\n",
              "function _uploadFilesContinue(outputId) {\n",
              "  const outputElement = document.getElementById(outputId);\n",
              "  const steps = outputElement.steps;\n",
              "\n",
              "  const next = steps.next(outputElement.lastPromiseValue);\n",
              "  return Promise.resolve(next.value.promise).then((value) => {\n",
              "    // Cache the last promise value to make it available to the next\n",
              "    // step of the generator.\n",
              "    outputElement.lastPromiseValue = value;\n",
              "    return next.value.response;\n",
              "  });\n",
              "}\n",
              "\n",
              "/**\n",
              " * Generator function which is called between each async step of the upload\n",
              " * process.\n",
              " * @param {string} inputId Element ID of the input file picker element.\n",
              " * @param {string} outputId Element ID of the output display.\n",
              " * @return {!Iterable<!Object>} Iterable of next steps.\n",
              " */\n",
              "function* uploadFilesStep(inputId, outputId) {\n",
              "  const inputElement = document.getElementById(inputId);\n",
              "  inputElement.disabled = false;\n",
              "\n",
              "  const outputElement = document.getElementById(outputId);\n",
              "  outputElement.innerHTML = '';\n",
              "\n",
              "  const pickedPromise = new Promise((resolve) => {\n",
              "    inputElement.addEventListener('change', (e) => {\n",
              "      resolve(e.target.files);\n",
              "    });\n",
              "  });\n",
              "\n",
              "  const cancel = document.createElement('button');\n",
              "  inputElement.parentElement.appendChild(cancel);\n",
              "  cancel.textContent = 'Cancel upload';\n",
              "  const cancelPromise = new Promise((resolve) => {\n",
              "    cancel.onclick = () => {\n",
              "      resolve(null);\n",
              "    };\n",
              "  });\n",
              "\n",
              "  // Wait for the user to pick the files.\n",
              "  const files = yield {\n",
              "    promise: Promise.race([pickedPromise, cancelPromise]),\n",
              "    response: {\n",
              "      action: 'starting',\n",
              "    }\n",
              "  };\n",
              "\n",
              "  cancel.remove();\n",
              "\n",
              "  // Disable the input element since further picks are not allowed.\n",
              "  inputElement.disabled = true;\n",
              "\n",
              "  if (!files) {\n",
              "    return {\n",
              "      response: {\n",
              "        action: 'complete',\n",
              "      }\n",
              "    };\n",
              "  }\n",
              "\n",
              "  for (const file of files) {\n",
              "    const li = document.createElement('li');\n",
              "    li.append(span(file.name, {fontWeight: 'bold'}));\n",
              "    li.append(span(\n",
              "        `(${file.type || 'n/a'}) - ${file.size} bytes, ` +\n",
              "        `last modified: ${\n",
              "            file.lastModifiedDate ? file.lastModifiedDate.toLocaleDateString() :\n",
              "                                    'n/a'} - `));\n",
              "    const percent = span('0% done');\n",
              "    li.appendChild(percent);\n",
              "\n",
              "    outputElement.appendChild(li);\n",
              "\n",
              "    const fileDataPromise = new Promise((resolve) => {\n",
              "      const reader = new FileReader();\n",
              "      reader.onload = (e) => {\n",
              "        resolve(e.target.result);\n",
              "      };\n",
              "      reader.readAsArrayBuffer(file);\n",
              "    });\n",
              "    // Wait for the data to be ready.\n",
              "    let fileData = yield {\n",
              "      promise: fileDataPromise,\n",
              "      response: {\n",
              "        action: 'continue',\n",
              "      }\n",
              "    };\n",
              "\n",
              "    // Use a chunked sending to avoid message size limits. See b/62115660.\n",
              "    let position = 0;\n",
              "    do {\n",
              "      const length = Math.min(fileData.byteLength - position, MAX_PAYLOAD_SIZE);\n",
              "      const chunk = new Uint8Array(fileData, position, length);\n",
              "      position += length;\n",
              "\n",
              "      const base64 = btoa(String.fromCharCode.apply(null, chunk));\n",
              "      yield {\n",
              "        response: {\n",
              "          action: 'append',\n",
              "          file: file.name,\n",
              "          data: base64,\n",
              "        },\n",
              "      };\n",
              "\n",
              "      let percentDone = fileData.byteLength === 0 ?\n",
              "          100 :\n",
              "          Math.round((position / fileData.byteLength) * 100);\n",
              "      percent.textContent = `${percentDone}% done`;\n",
              "\n",
              "    } while (position < fileData.byteLength);\n",
              "  }\n",
              "\n",
              "  // All done.\n",
              "  yield {\n",
              "    response: {\n",
              "      action: 'complete',\n",
              "    }\n",
              "  };\n",
              "}\n",
              "\n",
              "scope.google = scope.google || {};\n",
              "scope.google.colab = scope.google.colab || {};\n",
              "scope.google.colab._files = {\n",
              "  _uploadFiles,\n",
              "  _uploadFilesContinue,\n",
              "};\n",
              "})(self);\n",
              "</script> "
            ]
          },
          "metadata": {}
        },
        {
          "output_type": "stream",
          "name": "stdout",
          "text": [
            "Saving im43.png to im43.png\n"
          ]
        }
      ]
    },
    {
      "cell_type": "code",
      "source": [
        "import tensorflow as tf"
      ],
      "metadata": {
        "id": "X4jMf4E9aZKI"
      },
      "execution_count": null,
      "outputs": []
    },
    {
      "cell_type": "code",
      "source": [
        "def predict_emo(label_dict, img_path):\n",
        "  # img_path = 'im43.png'\n",
        "  # img = image.load_img(img_path, grayscale=True, target_size=(48,48))\n",
        "\n",
        "  img = tf.keras.utils.load_img(img_path, grayscale=True, target_size=(48,48))\n",
        "\n",
        "\n",
        "  x = tf.keras.utils.img_to_array(img)\n",
        "  x = np.expand_dims(x, axis=0)\n",
        "\n",
        "  prediction = np.argmax(model.predict(x))\n",
        "  return label_dict[prediction]\n",
        "  # print('The predicted emotion is : ' + label_dict[prediction])\n",
        "  # my_image = tf.keras.utils.load_img(img_path)\n",
        "  # plt.imshow(my_image)"
      ],
      "metadata": {
        "id": "aAKzxiDCTJPQ"
      },
      "execution_count": null,
      "outputs": []
    },
    {
      "cell_type": "code",
      "source": [
        "results = []\n",
        "for idx in range(100):\n",
        "  file_path = '/content/drive/MyDrive/angry/im'+str(idx)+'.png'\n",
        "  r = predict_emo(label_dict, file_path)\n",
        "  results.append(r)\n",
        "\n",
        "ctr = [1]*len(results)\n",
        "\n",
        "data = {'emo': results, 'ctr': ctr}\n",
        "pd.DataFrame(data).groupby('emo').count()"
      ],
      "metadata": {
        "id": "bzGPn6U4R31A"
      },
      "execution_count": null,
      "outputs": []
    },
    {
      "cell_type": "code",
      "source": [
        "xxx = {'just':[1,2,3,4],'like':[1,1,1,1]}\n",
        "pd.DataFrame(xxx).groupby('just').count()"
      ],
      "metadata": {
        "colab": {
          "base_uri": "https://localhost:8080/",
          "height": 206
        },
        "id": "pANa1R6aeD4b",
        "outputId": "1a886dbd-682d-4f2e-b1c2-24bf9b4880ac"
      },
      "execution_count": null,
      "outputs": [
        {
          "output_type": "execute_result",
          "data": {
            "text/plain": [
              "      like\n",
              "just      \n",
              "1        1\n",
              "2        1\n",
              "3        1\n",
              "4        1"
            ],
            "text/html": [
              "\n",
              "  <div id=\"df-55d7e9cd-10da-4d2c-b816-eddf391e932e\">\n",
              "    <div class=\"colab-df-container\">\n",
              "      <div>\n",
              "<style scoped>\n",
              "    .dataframe tbody tr th:only-of-type {\n",
              "        vertical-align: middle;\n",
              "    }\n",
              "\n",
              "    .dataframe tbody tr th {\n",
              "        vertical-align: top;\n",
              "    }\n",
              "\n",
              "    .dataframe thead th {\n",
              "        text-align: right;\n",
              "    }\n",
              "</style>\n",
              "<table border=\"1\" class=\"dataframe\">\n",
              "  <thead>\n",
              "    <tr style=\"text-align: right;\">\n",
              "      <th></th>\n",
              "      <th>like</th>\n",
              "    </tr>\n",
              "    <tr>\n",
              "      <th>just</th>\n",
              "      <th></th>\n",
              "    </tr>\n",
              "  </thead>\n",
              "  <tbody>\n",
              "    <tr>\n",
              "      <th>1</th>\n",
              "      <td>1</td>\n",
              "    </tr>\n",
              "    <tr>\n",
              "      <th>2</th>\n",
              "      <td>1</td>\n",
              "    </tr>\n",
              "    <tr>\n",
              "      <th>3</th>\n",
              "      <td>1</td>\n",
              "    </tr>\n",
              "    <tr>\n",
              "      <th>4</th>\n",
              "      <td>1</td>\n",
              "    </tr>\n",
              "  </tbody>\n",
              "</table>\n",
              "</div>\n",
              "      <button class=\"colab-df-convert\" onclick=\"convertToInteractive('df-55d7e9cd-10da-4d2c-b816-eddf391e932e')\"\n",
              "              title=\"Convert this dataframe to an interactive table.\"\n",
              "              style=\"display:none;\">\n",
              "        \n",
              "  <svg xmlns=\"http://www.w3.org/2000/svg\" height=\"24px\"viewBox=\"0 0 24 24\"\n",
              "       width=\"24px\">\n",
              "    <path d=\"M0 0h24v24H0V0z\" fill=\"none\"/>\n",
              "    <path d=\"M18.56 5.44l.94 2.06.94-2.06 2.06-.94-2.06-.94-.94-2.06-.94 2.06-2.06.94zm-11 1L8.5 8.5l.94-2.06 2.06-.94-2.06-.94L8.5 2.5l-.94 2.06-2.06.94zm10 10l.94 2.06.94-2.06 2.06-.94-2.06-.94-.94-2.06-.94 2.06-2.06.94z\"/><path d=\"M17.41 7.96l-1.37-1.37c-.4-.4-.92-.59-1.43-.59-.52 0-1.04.2-1.43.59L10.3 9.45l-7.72 7.72c-.78.78-.78 2.05 0 2.83L4 21.41c.39.39.9.59 1.41.59.51 0 1.02-.2 1.41-.59l7.78-7.78 2.81-2.81c.8-.78.8-2.07 0-2.86zM5.41 20L4 18.59l7.72-7.72 1.47 1.35L5.41 20z\"/>\n",
              "  </svg>\n",
              "      </button>\n",
              "      \n",
              "  <style>\n",
              "    .colab-df-container {\n",
              "      display:flex;\n",
              "      flex-wrap:wrap;\n",
              "      gap: 12px;\n",
              "    }\n",
              "\n",
              "    .colab-df-convert {\n",
              "      background-color: #E8F0FE;\n",
              "      border: none;\n",
              "      border-radius: 50%;\n",
              "      cursor: pointer;\n",
              "      display: none;\n",
              "      fill: #1967D2;\n",
              "      height: 32px;\n",
              "      padding: 0 0 0 0;\n",
              "      width: 32px;\n",
              "    }\n",
              "\n",
              "    .colab-df-convert:hover {\n",
              "      background-color: #E2EBFA;\n",
              "      box-shadow: 0px 1px 2px rgba(60, 64, 67, 0.3), 0px 1px 3px 1px rgba(60, 64, 67, 0.15);\n",
              "      fill: #174EA6;\n",
              "    }\n",
              "\n",
              "    [theme=dark] .colab-df-convert {\n",
              "      background-color: #3B4455;\n",
              "      fill: #D2E3FC;\n",
              "    }\n",
              "\n",
              "    [theme=dark] .colab-df-convert:hover {\n",
              "      background-color: #434B5C;\n",
              "      box-shadow: 0px 1px 3px 1px rgba(0, 0, 0, 0.15);\n",
              "      filter: drop-shadow(0px 1px 2px rgba(0, 0, 0, 0.3));\n",
              "      fill: #FFFFFF;\n",
              "    }\n",
              "  </style>\n",
              "\n",
              "      <script>\n",
              "        const buttonEl =\n",
              "          document.querySelector('#df-55d7e9cd-10da-4d2c-b816-eddf391e932e button.colab-df-convert');\n",
              "        buttonEl.style.display =\n",
              "          google.colab.kernel.accessAllowed ? 'block' : 'none';\n",
              "\n",
              "        async function convertToInteractive(key) {\n",
              "          const element = document.querySelector('#df-55d7e9cd-10da-4d2c-b816-eddf391e932e');\n",
              "          const dataTable =\n",
              "            await google.colab.kernel.invokeFunction('convertToInteractive',\n",
              "                                                     [key], {});\n",
              "          if (!dataTable) return;\n",
              "\n",
              "          const docLinkHtml = 'Like what you see? Visit the ' +\n",
              "            '<a target=\"_blank\" href=https://colab.research.google.com/notebooks/data_table.ipynb>data table notebook</a>'\n",
              "            + ' to learn more about interactive tables.';\n",
              "          element.innerHTML = '';\n",
              "          dataTable['output_type'] = 'display_data';\n",
              "          await google.colab.output.renderOutput(dataTable, element);\n",
              "          const docLink = document.createElement('div');\n",
              "          docLink.innerHTML = docLinkHtml;\n",
              "          element.appendChild(docLink);\n",
              "        }\n",
              "      </script>\n",
              "    </div>\n",
              "  </div>\n",
              "  "
            ]
          },
          "metadata": {},
          "execution_count": 36
        }
      ]
    },
    {
      "cell_type": "code",
      "source": [],
      "metadata": {
        "id": "CHAc0993ft7n"
      },
      "execution_count": null,
      "outputs": []
    }
  ]
}